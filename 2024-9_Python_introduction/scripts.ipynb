{
  "nbformat": 4,
  "nbformat_minor": 0,
  "metadata": {
    "colab": {
      "provenance": []
    },
    "kernelspec": {
      "name": "python3",
      "display_name": "Python 3"
    },
    "language_info": {
      "name": "python"
    }
  },
  "cells": [
    {
      "cell_type": "markdown",
      "source": [
        "\n",
        "\n",
        "---\n",
        "<h1>Uzdevumi ar string</h1>\n",
        "\n",
        "<h4>1. Izveidot string tipa mainigo ar jebkādu vērtību un izvadīt šo pašu vērtību, kur visi simboli ir ar mazo burtu</h4>\n"
      ],
      "metadata": {
        "id": "LcnIs1hlQsnv"
      }
    },
    {
      "cell_type": "code",
      "execution_count": 2,
      "metadata": {
        "id": "LDul_-O-QT4g",
        "outputId": "0a0b5fa7-e61e-4d27-e0bf-5f2b7c095a31",
        "colab": {
          "base_uri": "https://localhost:8080/"
        }
      },
      "outputs": [
        {
          "output_type": "stream",
          "name": "stdout",
          "text": [
            "vērtība\n"
          ]
        }
      ],
      "source": [
        "a = \"VēRtīBa\"\n",
        "print(a.lower())"
      ]
    },
    {
      "cell_type": "markdown",
      "source": [
        "<h4> 2. Izveidot string tipa mainigo ar jebkādu vērtību un izvadīt šo pašu vērtību, kur visi simboli ir ar lielo burtu </h4>"
      ],
      "metadata": {
        "id": "6L6KdVt9dXIU"
      }
    },
    {
      "cell_type": "code",
      "source": [
        "a = \"vērtība\"\n",
        "print(a.upper())"
      ],
      "metadata": {
        "id": "JAfdJQmJde7s",
        "outputId": "b91a50ad-b7bb-4cc1-ee81-7139dfade9bf",
        "colab": {
          "base_uri": "https://localhost:8080/"
        }
      },
      "execution_count": 3,
      "outputs": [
        {
          "output_type": "stream",
          "name": "stdout",
          "text": [
            "VĒRTĪBA\n"
          ]
        }
      ]
    },
    {
      "cell_type": "markdown",
      "source": [
        "<h4> 3. Izveidot string tipa mainigo ar jebkādu vērtību un izvadīt tā garumu </h4>"
      ],
      "metadata": {
        "id": "JrdzkLAMdell"
      }
    },
    {
      "cell_type": "code",
      "source": [
        "a = \"vērtība\"\n",
        "print(len(a))"
      ],
      "metadata": {
        "id": "9gjQjVS8dfku",
        "outputId": "193bd9ab-1786-43d7-a0aa-fdb48ed2ff60",
        "colab": {
          "base_uri": "https://localhost:8080/"
        }
      },
      "execution_count": 21,
      "outputs": [
        {
          "output_type": "stream",
          "name": "stdout",
          "text": [
            "7\n"
          ]
        }
      ]
    },
    {
      "cell_type": "markdown",
      "source": [
        "<h4> 4. Izveidot string tipa mainīgo ar vērtību \"Ventspils Augstskola\" un izvadīt vērtības \"A\" indeksu </h4>"
      ],
      "metadata": {
        "id": "wKF52LZLdkip"
      }
    },
    {
      "cell_type": "code",
      "source": [
        "a = \"Ventspils Augstskola\"\n",
        "index = 0\n",
        "for i in a:\n",
        "  if (i == \"A\"):\n",
        "    print(\"Indekss: \", index)\n",
        "  index = index + 1"
      ],
      "metadata": {
        "id": "EoIzRvywdpgP",
        "outputId": "602ada91-f37e-40ad-9c42-4bab7698c92c",
        "colab": {
          "base_uri": "https://localhost:8080/"
        }
      },
      "execution_count": 23,
      "outputs": [
        {
          "output_type": "stream",
          "name": "stdout",
          "text": [
            "Indekss:  10\n"
          ]
        }
      ]
    },
    {
      "cell_type": "markdown",
      "source": [
        "<h4> 5. Izveidot string tipa mainīgo ar vērtību \"Ventspils Augstskola\", aizvietot \"Augstskola\" ar vērtību \"University\" un izvadīt to </h4>"
      ],
      "metadata": {
        "id": "vgztEra-dp3z"
      }
    },
    {
      "cell_type": "code",
      "source": [
        "a = \"Ventspils Augstskola\"\n",
        "print(a.replace(\"Augstskola\", \"University\"))"
      ],
      "metadata": {
        "id": "eX0mzRJGduUW",
        "outputId": "a4d51974-2844-4c22-914e-6d851c28d271",
        "colab": {
          "base_uri": "https://localhost:8080/"
        }
      },
      "execution_count": 22,
      "outputs": [
        {
          "output_type": "stream",
          "name": "stdout",
          "text": [
            "Ventspils University\n"
          ]
        }
      ]
    },
    {
      "cell_type": "markdown",
      "source": [
        "<h4> 6. Izveidot string tipa mainīgo ar vērtību \"Ventspils Augstskola\" un izvadīt tikai vērtību Augstskola </h4>"
      ],
      "metadata": {
        "id": "oVIrUqcQdwF8"
      }
    },
    {
      "cell_type": "code",
      "source": [
        "a = \"Ventspils Augstskola\"\n",
        "print(a[10:20])"
      ],
      "metadata": {
        "id": "cQB4ydRDd0YB",
        "outputId": "e40f06e7-984f-4290-ef99-f3273fb52269",
        "colab": {
          "base_uri": "https://localhost:8080/"
        }
      },
      "execution_count": 29,
      "outputs": [
        {
          "output_type": "stream",
          "name": "stdout",
          "text": [
            "Augstskola\n"
          ]
        }
      ]
    },
    {
      "cell_type": "markdown",
      "source": [
        "\n",
        "\n",
        "---\n",
        "\n",
        "<h1> Uzdevumi ar cipariem (Int, Float) </h4>\n",
        "\n",
        "<h4> 1. Izveidot divus int tipa mainīgos ar vērtībām 10 un 5. Veikt saskaitīšanas, atņemšanas, reizināšanas, dalīšanas un kāpināšanas operācijas </h4>"
      ],
      "metadata": {
        "id": "VIJZsvPKd1Oj"
      }
    },
    {
      "cell_type": "code",
      "source": [
        "a = 10\n",
        "b = 5\n",
        "\n",
        "print(a, \"+\", b, \" = \", a + b)\n",
        "print(a, \"-\", b, \" = \", a - b)\n",
        "print(a, \"*\", b, \" = \", a * b)\n",
        "print(a, \"/\", b, \" = \", a / b)"
      ],
      "metadata": {
        "id": "O2zDaavXeAVj",
        "outputId": "77482b7f-bc7e-4ce4-c0f5-7d8abf833da5",
        "colab": {
          "base_uri": "https://localhost:8080/"
        }
      },
      "execution_count": 35,
      "outputs": [
        {
          "output_type": "stream",
          "name": "stdout",
          "text": [
            "10 + 5  =  15\n",
            "10 - 5  =  5\n",
            "10 * 5  =  50\n",
            "10 / 5  =  2.0\n"
          ]
        }
      ]
    },
    {
      "cell_type": "markdown",
      "source": [
        "<h4> 2. Izveidot vienu int tipa mainīgo ar vērtību 4 un vienu float tipa mainigo ar vērtību 4.7. Saskaitīt abus mainīgos un izvadīt noapaļotu šī skaitļa vērtību </h4>"
      ],
      "metadata": {
        "id": "jU3rwzqdeBXH"
      }
    },
    {
      "cell_type": "code",
      "source": [
        "a = 4\n",
        "b = 4.7\n",
        "\n",
        "print(a, \"+\", b, \" = \", round(a + b))"
      ],
      "metadata": {
        "id": "AN9m6EUjeJMm",
        "outputId": "ecd96e97-9ce9-4788-bd23-f6311cf19483",
        "colab": {
          "base_uri": "https://localhost:8080/"
        }
      },
      "execution_count": 38,
      "outputs": [
        {
          "output_type": "stream",
          "name": "stdout",
          "text": [
            "4 + 4.7  =  9\n"
          ]
        }
      ]
    },
    {
      "cell_type": "markdown",
      "source": [
        "<h4> 3. Izveidot vienu int tipa mainīgo ar vērtību 4 un vienu float tipa mainigo ar vērtību 1.1. Atņemt abus mainīgos un izvadīt noapaļotu mazāko veselo skaitli no rezultāta </h4>"
      ],
      "metadata": {
        "id": "goQry4DXeJSb"
      }
    },
    {
      "cell_type": "code",
      "source": [
        "import math\n",
        "\n",
        "a = 4\n",
        "b = 1.1\n",
        "\n",
        "print(a, \"-\", b, \" = \", math.floor(a - b))"
      ],
      "metadata": {
        "id": "o3x6fm77eW7u",
        "outputId": "588f3e7f-8b22-4477-c820-7630b889ef85",
        "colab": {
          "base_uri": "https://localhost:8080/"
        }
      },
      "execution_count": 41,
      "outputs": [
        {
          "output_type": "stream",
          "name": "stdout",
          "text": [
            "4 - 1.1  =  2\n"
          ]
        }
      ]
    },
    {
      "cell_type": "markdown",
      "source": [
        "<h4> 4. Izveidot vienu int tipa mainigo ar vērtību 9 un vienu float tipa mainigo ar vērtību 6.4. Sareizinat abus mainīgos un izvadīt noapaļotu augstāko veselo skaitli no rezultāta </h4>"
      ],
      "metadata": {
        "id": "KuNdDiM5eXBk"
      }
    },
    {
      "cell_type": "code",
      "source": [
        "a = 9\n",
        "b = 6.4\n",
        "\n",
        "print(a, \"*\", b, \" = \", round(a * b))"
      ],
      "metadata": {
        "id": "Tk-bPSCaeanE",
        "outputId": "0f935c81-07f7-4bfb-ee12-5aa11b43623c",
        "colab": {
          "base_uri": "https://localhost:8080/"
        }
      },
      "execution_count": 44,
      "outputs": [
        {
          "output_type": "stream",
          "name": "stdout",
          "text": [
            "9 * 6.4  =  58\n"
          ]
        }
      ]
    },
    {
      "cell_type": "markdown",
      "source": [
        "<h4> 5. Izveidot divus int tipa mainigos ar vērtībām 4 un 16. Sareizināt abus skaitļus un izvadīt kvadrātsakni no rezultāta </h4>"
      ],
      "metadata": {
        "id": "8zrBBli7eayC"
      }
    },
    {
      "cell_type": "code",
      "source": [
        "import math\n",
        "\n",
        "a = 4\n",
        "b = 16\n",
        "\n",
        "print(\"√(\", a, \"*\", b, \") = \", math.sqrt(a*b))"
      ],
      "metadata": {
        "id": "5PkOzUceeeRy",
        "outputId": "331bd7c0-5088-480a-e3c2-06be76063faa",
        "colab": {
          "base_uri": "https://localhost:8080/"
        }
      },
      "execution_count": 48,
      "outputs": [
        {
          "output_type": "stream",
          "name": "stdout",
          "text": [
            "√( 4 * 16 ) =  8.0\n"
          ]
        }
      ]
    },
    {
      "cell_type": "markdown",
      "source": [
        "<h4>6. Ir dota sekojoša formula </h4>\n",
        "\n",
        "\\begin{align}\n",
        "x=x_0 + v_0t + \\frac{a_xt^2}{2}\n",
        "\\end{align}\n",
        "\n",
        "\n",
        "<h4> Izveidojot mainīgos ar pašizdomātām vērtībām, pārrakstīt formulu python sintaksē un izvadīt $x$ </h4>\n"
      ],
      "metadata": {
        "id": "X_x4shUNgUPb"
      }
    },
    {
      "cell_type": "code",
      "source": [
        "import math\n",
        "\n",
        "x0 = int(input(\"Input x0 value: \"))\n",
        "v0 = int(input(\"Input v0 value: \"))\n",
        "t = int(input(\"Input t value: \"))\n",
        "ax = int(input(\"Input ax value: \"))\n",
        "\n",
        "print(\"x = \", x0 + v0 * t + ax * math.pow(t, 2) / 2)"
      ],
      "metadata": {
        "id": "MLdP88eEgj0H",
        "outputId": "6ca88501-ac81-42e5-866e-a2d6078fe2ef",
        "colab": {
          "base_uri": "https://localhost:8080/"
        }
      },
      "execution_count": 51,
      "outputs": [
        {
          "output_type": "stream",
          "name": "stdout",
          "text": [
            "Input x0 value: 5\n",
            "Input v0 value: 6\n",
            "Input t value: 3\n",
            "Input ax value: 8\n",
            "x =  59.0\n"
          ]
        }
      ]
    }
  ]
}