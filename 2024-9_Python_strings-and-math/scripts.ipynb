{
  "nbformat": 4,
  "nbformat_minor": 0,
  "metadata": {
    "colab": {
      "provenance": []
    },
    "kernelspec": {
      "name": "python3",
      "display_name": "Python 3"
    },
    "language_info": {
      "name": "python"
    }
  },
  "cells": [
    {
      "cell_type": "markdown",
      "source": [
        "<h4> 1.Izveidot string tipa mainigo ar vērtību \"VenTsPiLS AuGSTkola\" un izvadīt šo pašu vērtību, kur visi simboli ir ar mazo burtu </h4>"
      ],
      "metadata": {
        "id": "qYwn3QLGwonN"
      }
    },
    {
      "cell_type": "code",
      "execution_count": 1,
      "metadata": {
        "id": "1-vimrYuwnok",
        "outputId": "593e257a-ec56-4558-cf00-f16805301cce",
        "colab": {
          "base_uri": "https://localhost:8080/"
        }
      },
      "outputs": [
        {
          "output_type": "stream",
          "name": "stdout",
          "text": [
            "ventspils augstkola\n"
          ]
        }
      ],
      "source": [
        "a = \"VenTsPiLS AuGSTkola\"\n",
        "\n",
        "print(a.lower())"
      ]
    },
    {
      "cell_type": "markdown",
      "source": [
        "<h4> 2. Izveidot string tipa mainīgo ar vērtību \"University of British Columbia\" un izvadīt tikai vērtību \"British\" no izveidotā mainīgā (Izmantot kādu no funkcijām (index, find) un neskaitīt atrašanās vietu manuāli)</h4>"
      ],
      "metadata": {
        "id": "lgvIoQXgxzjt"
      }
    },
    {
      "cell_type": "code",
      "source": [
        "a = \"University of British Columbia\"\n",
        "matching_word = \"\"\n",
        "\n",
        "for i in range(a.find(\"B\"), (a.find(\"h\") + 1)):\n",
        "  matching_word = matching_word + a[i]\n",
        "print(matching_word)"
      ],
      "metadata": {
        "id": "dAcThCOewoTP",
        "outputId": "4030f79b-df4d-4d24-fb92-492f04a959af",
        "colab": {
          "base_uri": "https://localhost:8080/"
        }
      },
      "execution_count": 19,
      "outputs": [
        {
          "output_type": "stream",
          "name": "stdout",
          "text": [
            "British\n"
          ]
        }
      ]
    },
    {
      "cell_type": "markdown",
      "source": [
        "<h3> 3. Izveidot divus int tipa mainigos ar vērtībām 15 un 25. Sareizināt abus skaitļus un izvadīt kvadrātsakni no rezultāta </h3>"
      ],
      "metadata": {
        "id": "E5BTC1Htyajk"
      }
    },
    {
      "cell_type": "code",
      "source": [
        "import math\n",
        "\n",
        "a = 15\n",
        "b = 25\n",
        "\n",
        "print(math.sqrt(a * b))"
      ],
      "metadata": {
        "id": "YxOLmaoFykMd",
        "outputId": "d5b3e023-9299-42ea-f7c1-acbb08f7e5b1",
        "colab": {
          "base_uri": "https://localhost:8080/"
        }
      },
      "execution_count": 20,
      "outputs": [
        {
          "output_type": "stream",
          "name": "stdout",
          "text": [
            "19.364916731037084\n"
          ]
        }
      ]
    },
    {
      "cell_type": "markdown",
      "source": [
        "<h4> 4. Likt lietotājam ievadīt atbildi uz jautājumu \"Do you agree?\", ja lietotājs atbild ar, piemēram, 'yes' izvadīt, ka lietotājs piekrīt, ja lietotājs atbild ar 'no', izvadīt, ka nepiekrīt.\n",
        "\n",
        "BONUS: izveidot tā, ka atbildes kā 'YeS','YES','yES', utt nostrādātu gan pie piekrišanas, gan nepiekrišanas 'nO','NO','No'</h4>"
      ],
      "metadata": {
        "id": "vBk_HVmtyov1"
      }
    },
    {
      "cell_type": "code",
      "source": [
        "a = input(\"Do you agree? \")\n",
        "\n",
        "if a.lower() == \"yes\":\n",
        "  print(\"You agreed!\")\n",
        "elif(a.lower() == \"no\"):\n",
        "  print(\"You disagreed!\")"
      ],
      "metadata": {
        "id": "jjFhjAx2YCQq",
        "outputId": "dd26887b-65e4-448b-db86-c01a700f4f95",
        "colab": {
          "base_uri": "https://localhost:8080/"
        }
      },
      "execution_count": 25,
      "outputs": [
        {
          "output_type": "stream",
          "name": "stdout",
          "text": [
            "Do you agree? YeS\n",
            "You agreed!\n"
          ]
        }
      ]
    },
    {
      "cell_type": "markdown",
      "source": [
        "<h4>5. Likt lietotājam ievadīt 2 skaitļus un pārbaudīt vai tie NAV vienādi. Ja tie nav vienādi izvadīt rezultātu, ka tie nav vienādi, citā gadījumā izvadīt, ka tie ir vienādi</h4>"
      ],
      "metadata": {
        "id": "NNMfT50N9rGv"
      }
    },
    {
      "cell_type": "code",
      "source": [
        "a = input(\"First number: \")\n",
        "b = input(\"Second number: \")\n",
        "\n",
        "if(a == b):\n",
        "  print(\"Provided numbers match!\")\n",
        "else:\n",
        "  print(\"Provided numbers don't match!\")"
      ],
      "metadata": {
        "id": "Bx29ZYrC-RHQ",
        "outputId": "2be1057d-f8ad-4ba7-856e-9c99c81238a8",
        "colab": {
          "base_uri": "https://localhost:8080/"
        }
      },
      "execution_count": 28,
      "outputs": [
        {
          "output_type": "stream",
          "name": "stdout",
          "text": [
            "First number: 5\n",
            "Second number: 6\n",
            "Provided numbers don't match!\n"
          ]
        }
      ]
    },
    {
      "cell_type": "markdown",
      "source": [
        "<h4> 6. Likt lietotājam ievadīt skaitli no 1-100 un izvadīt, kāda ir iegūtā atzīme no šī skaitli </h4>\n",
        "90 - 100 = A\n",
        "\n",
        "80 - 89 = B\n",
        "\n",
        "70 - 79 = C\n",
        "\n",
        "60 - 69 = D\n",
        "\n",
        "1-59 = F"
      ],
      "metadata": {
        "id": "BEXDz-dy-awI"
      }
    },
    {
      "cell_type": "code",
      "source": [
        "a = int(input(\"Provide an number ranging from 1 - 100: \"))\n",
        "\n",
        "if(a <= 100 and a > 0):\n",
        "  if(a >= 1 and a <=59):\n",
        "    print(\"F\")\n",
        "  elif(a >= 60 and a <=69):\n",
        "    print(\"D\")\n",
        "  elif(a >= 70 and a <=79):\n",
        "    print(\"C\")\n",
        "  elif(a >= 80 and a <=89):\n",
        "    print(\"B\")\n",
        "  elif(a >= 90 and a <=100):\n",
        "    print(\"A\")\n",
        "else:\n",
        "  print(\"Provided number doesn't fit the range\")"
      ],
      "metadata": {
        "id": "sxpGt_Uj-xn_",
        "outputId": "cc0d8077-2c24-491e-a7bc-f67e8dddaa01",
        "colab": {
          "base_uri": "https://localhost:8080/"
        }
      },
      "execution_count": 37,
      "outputs": [
        {
          "output_type": "stream",
          "name": "stdout",
          "text": [
            "Provide an number ranging from 1 - 100: 101\n",
            "Provided number doesn't fit the range\n"
          ]
        }
      ]
    },
    {
      "cell_type": "markdown",
      "source": [
        "<h4> 7. Likt lietotājam ievadīt jebkādu skaitli, pēc tam izvadīt, vai tas ir pāra vai nepāra skaitlis </h4>"
      ],
      "metadata": {
        "id": "M6ZVYRD3AOWg"
      }
    },
    {
      "cell_type": "code",
      "source": [
        "a = int(input(\"Provide an number: \"))\n",
        "\n",
        "if(a % 2) == 0:\n",
        "  print(\"Number:\", a, \"Is Even\")\n",
        "else:\n",
        "  print(\"Number:\", a, \"Is Odd\")"
      ],
      "metadata": {
        "id": "kbrjowoGAWFQ",
        "outputId": "138e26ec-0534-4a9b-eb80-7f99ef97d5a9",
        "colab": {
          "base_uri": "https://localhost:8080/"
        }
      },
      "execution_count": 44,
      "outputs": [
        {
          "output_type": "stream",
          "name": "stdout",
          "text": [
            "Provide an number: 15\n",
            "Number: 15 Is Odd\n"
          ]
        }
      ]
    },
    {
      "cell_type": "markdown",
      "source": [
        "<h4>8. Uztaisīt while ciklu, kurš atkārtojas līdz lietotāja ievadītam skaitlim. Saskaitīt cik reizes šajā ciklā parādas skaitļi, kurus var izdalīt ar 3 bez atlikuma un šo skaitu izvadīt</h4>"
      ],
      "metadata": {
        "id": "vS8efIz0AWJw"
      }
    },
    {
      "cell_type": "code",
      "source": [
        "a = int(input(\"Provide an number: \"))\n",
        "num = 1\n",
        "possibilities = 0\n",
        "\n",
        "while(num <= a):\n",
        "  if num % 3 == 0:\n",
        "    possibilities = possibilities + 1\n",
        "  num = num + 1\n",
        "print(\"You can divide \", a, \" by three \", possibilities, \" times.\")"
      ],
      "metadata": {
        "id": "yLS_iH62CE6J",
        "outputId": "b1b4aa44-971d-4ea8-b26e-6fc09a0df5a2",
        "colab": {
          "base_uri": "https://localhost:8080/"
        }
      },
      "execution_count": 65,
      "outputs": [
        {
          "output_type": "stream",
          "name": "stdout",
          "text": [
            "Provide an number: 72\n",
            "You can divide  72  by three  24  times.\n"
          ]
        }
      ]
    },
    {
      "cell_type": "markdown",
      "source": [
        "<h4>9. Izveidot metamkauliņu spēli, kur spēle un lietotājs met divus kauliņus un to uzdevums ir sasniegt 100 vai vairāk punktu vērtību.</h4>\n",
        "\n",
        "Spēles gaita:\n",
        " 1. spēle un lietotājs sāk spēli ar 0 punktiem\n",
        " 2. Gan lietotājs, gan spēlētājs uzmet divus metamos kauliņus (izmantojot funkciju random.randint() https://www.w3schools.com/python/ref_random_randint.asp)\n",
        " 3. Saskaita abu metamo kauliņu summu un pieskaita to attiecīgajiem punktiem\n",
        " 4. Kamēr lietotājs vai spēle nav sasnieguši 100 punktus, spēle turpinās\n",
        "\n",
        "Izvadīt spēles rezultātu, kurš uzvarēja un kādi ir bijuši punktu skaiti katrā gājienā"
      ],
      "metadata": {
        "id": "FvzKnEBbCFnI"
      }
    },
    {
      "cell_type": "code",
      "source": [
        "import random\n",
        "\n",
        "user_score = 0\n",
        "game_score = 0\n",
        "user_score_history = []\n",
        "game_score_history = []\n",
        "\n",
        "while(user_score < 100 and game_score < 100):\n",
        "  user_score = user_score + random.randint(1, 12)\n",
        "  user_score_history.append(user_score)\n",
        "\n",
        "  game_score = game_score + random.randint(1, 12)\n",
        "  game_score_history.append(game_score)\n",
        "\n",
        "if(game_score > user_score):\n",
        "  print(\"Game won!\")\n",
        "elif(game_score < user_score):\n",
        "  print(\"User won!\")\n",
        "else:\n",
        "  print(\"Draw!\")\n",
        "\n",
        "print(\"\")\n",
        "print(\"Games score: \", game_score)\n",
        "print(\"Users score: \", user_score)\n",
        "\n",
        "print(\"\")\n",
        "print(\"Score History (Move By Move):\")\n",
        "print(\"Users Score: \", user_score_history)\n",
        "print(\"Games Score: \", game_score_history)"
      ],
      "metadata": {
        "id": "cZaHAnf3gG-8",
        "outputId": "afb14dca-2174-4304-a432-94a7d6cbf998",
        "colab": {
          "base_uri": "https://localhost:8080/"
        }
      },
      "execution_count": 78,
      "outputs": [
        {
          "output_type": "stream",
          "name": "stdout",
          "text": [
            "User won!\n",
            "\n",
            "Games score:  87\n",
            "Users score:  105\n",
            "\n",
            "Score History (Move By Move):\n",
            "Users Score:  [5, 15, 24, 36, 48, 54, 57, 68, 79, 80, 89, 96, 97, 105]\n",
            "Games Score:  [9, 18, 20, 29, 31, 42, 44, 53, 59, 67, 73, 78, 83, 87]\n"
          ]
        }
      ]
    }
  ]
}