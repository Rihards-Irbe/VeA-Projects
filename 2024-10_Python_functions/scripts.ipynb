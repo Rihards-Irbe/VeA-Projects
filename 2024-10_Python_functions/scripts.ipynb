{
  "nbformat": 4,
  "nbformat_minor": 0,
  "metadata": {
    "colab": {
      "provenance": []
    },
    "kernelspec": {
      "name": "python3",
      "display_name": "Python 3"
    },
    "language_info": {
      "name": "python"
    }
  },
  "cells": [
    {
      "cell_type": "markdown",
      "source": [
        "1. Uzdevums 'Square Every Digit'\n",
        "\n",
        "Uzrakstīt funkciju, kurai tiek padots viens mainīgais, kas būs Integer tipa. Funkcijā kāpināt kvadrātā katru skaitli un savienot tos. Rezultātā atgriezt savienotos skaitļus, bet ar Integer tipu.\n",
        "\n",
        "Piemēram:\n",
        "```\n",
        "Piemērs #1\n",
        "funkcija(9119) -> 811181\n",
        "Paskaidrojums:\n",
        "9^2 = 81, 1^2 = 1, 9^2 = 81 (81-1-1-81)\n",
        "\n",
        "Piemērs #2\n",
        "funkcija(765) -> 493625\n",
        "7^2 = 49, 6^2 = 36, 5^2 = 25 (49-36-25)\n",
        "```"
      ],
      "metadata": {
        "id": "aB3J_4PSYk7i"
      }
    },
    {
      "cell_type": "code",
      "execution_count": 25,
      "metadata": {
        "id": "xpE8v9ytYg_M",
        "outputId": "1e2c9b95-e6b5-4a95-b1a2-053b1f0fd1f3",
        "colab": {
          "base_uri": "https://localhost:8080/"
        }
      },
      "outputs": [
        {
          "output_type": "stream",
          "name": "stdout",
          "text": [
            "493625\n"
          ]
        }
      ],
      "source": [
        "def funkcija(a : int) -> int:\n",
        "  result = \"\"\n",
        "  for i in str(a):\n",
        "    result = result + str(int(i) ** 2)\n",
        "\n",
        "  return int(result)\n",
        "\n",
        "print(funkcija(765))"
      ]
    },
    {
      "cell_type": "markdown",
      "source": [
        "2. Uzdevums 'Highest and Lowest'\n",
        "\n",
        "Izveidot funkciju, kurai tiek padots viens mainīgais String tipa, kas saturēs vairākus skaitļus vienā tekstā. No funkcijas atgriezt mazāko un lielāko skaitli.\n",
        "\n",
        "```\n",
        "high_and_low(\"1 2 3 4 5\")  # return \"5 1\"\n",
        "high_and_low(\"1 2 -3 4 5\") # return \"5 -3\"\n",
        "high_and_low(\"1 9 3 4 -5\") # return \"9 -5\"\n",
        "```"
      ],
      "metadata": {
        "id": "DdvxsilFaL4a"
      }
    },
    {
      "cell_type": "code",
      "source": [
        "def hight_and_low(numbers : str) -> int:\n",
        "    numbers_array = []\n",
        "    for num in numbers.split():\n",
        "      numbers_array.append(int(num))\n",
        "\n",
        "    return max(numbers_array), min(numbers_array)\n",
        "\n",
        "print(hight_and_low(\"1 9 3 4 -5\"))"
      ],
      "metadata": {
        "id": "50i6Wr90bILK",
        "outputId": "f950d149-d0a1-4686-d304-2e18a1d3df69",
        "colab": {
          "base_uri": "https://localhost:8080/"
        }
      },
      "execution_count": 50,
      "outputs": [
        {
          "output_type": "stream",
          "name": "stdout",
          "text": [
            "(9, -5)\n"
          ]
        }
      ]
    },
    {
      "cell_type": "markdown",
      "source": [
        "3. Uzdevums 'Exes and Ohs'\n",
        "\n",
        "Izveidot funkciju, kurai tiek padots viens mainīgais, kas būs String tipa. Funkcija atgriež True, ja vērtība satur vienāda skaita 'x' un 'o', pretējā gadījumā False. Ņemt vērā, ka nav svarīgi vai 'x' tiek rakstīts ar mazo/lielo burtu.\n",
        "\n",
        "```\n",
        "XO(\"ooxx\") => true\n",
        "XO(\"xooxx\") => false\n",
        "XO(\"ooxXm\") => true\n",
        "XO(\"zpzpzpp\") => true // when no 'x' and 'o' is present should return true\n",
        "XO(\"zzoo\") => false\n",
        "```"
      ],
      "metadata": {
        "id": "ae8g9JhQbIPU"
      }
    },
    {
      "cell_type": "code",
      "source": [
        "def X0(string_arg : str) -> bool:\n",
        "  amount_of_os = 0\n",
        "  amount_of_xs = 0\n",
        "\n",
        "  for i in string_arg.lower():\n",
        "    if(i == \"o\"):\n",
        "      amount_of_os += 1\n",
        "    elif(i == \"x\"):\n",
        "      amount_of_xs += 1\n",
        "  if(amount_of_os == amount_of_xs):\n",
        "    return True\n",
        "  else:\n",
        "    return False\n",
        "\n",
        "print(X0(\"xooxx\"))"
      ],
      "metadata": {
        "id": "gcwts9PTcAWH",
        "outputId": "7ccd3fb8-3b7b-478b-bb75-06e9a2955ea4",
        "colab": {
          "base_uri": "https://localhost:8080/"
        }
      },
      "execution_count": 113,
      "outputs": [
        {
          "output_type": "stream",
          "name": "stdout",
          "text": [
            "False\n"
          ]
        }
      ]
    },
    {
      "cell_type": "markdown",
      "source": [
        "4. Uzdevums 'Multiples of 3 or 5'\n",
        "\n",
        "Ja mēs uzrakstam visus naturālos skaitļus zem 10, kuri dalās ar 3 vai 5, mēs iegūstam 3, 5, 6, 9. Šo skaitļu summa mums ir 23.\n",
        "\n",
        "Uzrakstīt funkciju, kurai tiek padots viens skaitlis, un kas atgriež summu no visiem skaitļiem, kas dalās ar 3 vai 5 līdz padotajam skaitlim. Ja skaitlis ir negatīvs atgriezt 0.\n",
        "\n",
        "Piezīme: Ja skaitlis dalās gan ar 3, gan ar 5, tas tiek pieskaitīts tikai vienreiz."
      ],
      "metadata": {
        "id": "-p_Pci7RcAao"
      }
    },
    {
      "cell_type": "code",
      "source": [
        "def multiples_of_3_or_5(number : int) -> int:\n",
        "  if(number < 0):\n",
        "    return 0\n",
        "\n",
        "  answer = 0\n",
        "  for i in range(1, number + 1):\n",
        "    if((i / 3) % 1 == 0 or (i / 5) % 1 == 0):\n",
        "      answer = answer + i\n",
        "\n",
        "  return answer\n",
        "\n",
        "print(multiples_of_3_or_5(9))\n"
      ],
      "metadata": {
        "id": "biibcJuJdlGA",
        "outputId": "a1c6d119-6505-40a6-de9f-3fea763aff28",
        "colab": {
          "base_uri": "https://localhost:8080/"
        }
      },
      "execution_count": 76,
      "outputs": [
        {
          "output_type": "stream",
          "name": "stdout",
          "text": [
            "23\n"
          ]
        }
      ]
    },
    {
      "cell_type": "markdown",
      "source": [
        "5. Uzdevums 'Stop gninnipS My sdroW!'\n",
        "\n",
        "Uzrakstīt funkciju, kurai tiek padots viens mainīgais, kas būs String tipa un saturēs vairākus vārdus. Funkcija atgriež to pašu mainīgo, taču, katrs vārds, kas satur 5 vai vairāk simbolus, tiek apgriezts otrādi. Padotās vērtības satur tikai burtus un atstarpes.\n",
        "\n",
        "Piemēri:\n",
        "```\n",
        "spinWords( \"Hey fellow warriors\" ) => returns \"Hey wollef sroirraw\"\n",
        "spinWords( \"This is a test\") => returns \"This is a test\"\n",
        "spinWords( \"This is another test\" )=> returns \"This is rehtona test\"\n",
        "```"
      ],
      "metadata": {
        "id": "s-hPgUVtdlKP"
      }
    },
    {
      "cell_type": "code",
      "source": [
        "def spinWords(string_arg : str) -> str:\n",
        "    word_array = []\n",
        "    text = \"\"\n",
        "    for word in string_arg.split():\n",
        "      word_array.append(word)\n",
        "\n",
        "    for word in word_array:\n",
        "      if(len(word) > 5):\n",
        "        added_word = word[::-1]\n",
        "      else:\n",
        "        added_word = word\n",
        "\n",
        "      if(word_array.index(word) == 0):\n",
        "        text = text + added_word\n",
        "      else:\n",
        "        text = text + \" \" + added_word\n",
        "\n",
        "\n",
        "    return text\n",
        "\n",
        "print(spinWords(\"Hey fellow warriors\"))"
      ],
      "metadata": {
        "id": "2MnMn_jqef8F",
        "outputId": "9848cd96-ebd5-438c-c21c-8280a37a6f34",
        "colab": {
          "base_uri": "https://localhost:8080/"
        }
      },
      "execution_count": 112,
      "outputs": [
        {
          "output_type": "stream",
          "name": "stdout",
          "text": [
            "Hey wollef sroirraw\n"
          ]
        }
      ]
    }
  ]
}